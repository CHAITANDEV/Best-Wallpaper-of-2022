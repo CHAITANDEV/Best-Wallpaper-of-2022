{
  "nbformat": 4,
  "nbformat_minor": 0,
  "metadata": {
    "kernelspec": {
      "display_name": "Python 3",
      "language": "python",
      "name": "python3"
    },
    "language_info": {
      "codemirror_mode": {
        "name": "ipython",
        "version": 3
      },
      "file_extension": ".py",
      "mimetype": "text/x-python",
      "name": "python",
      "nbconvert_exporter": "python",
      "pygments_lexer": "ipython3",
      "version": "3.7.4"
    },
    "colab": {
      "name": "Assignment - Statements, Indentation and Conditionals.ipynb",
      "provenance": [],
      "collapsed_sections": [],
      "include_colab_link": true
    }
  },
  "cells": [
    {
      "cell_type": "markdown",
      "metadata": {
        "id": "view-in-github",
        "colab_type": "text"
      },
      "source": [
        "<a href=\"https://colab.research.google.com/github/CHAITANDEV/python-/blob/main/Assignment_Statements%2C_Indentation_and_Conditionals.ipynb\" target=\"_parent\"><img src=\"https://colab.research.google.com/assets/colab-badge.svg\" alt=\"Open In Colab\"/></a>"
      ]
    },
    {
      "cell_type": "markdown",
      "metadata": {
        "id": "8WbUJEVzs8Bx"
      },
      "source": [
        "## <u>While doing this assignment only use those concepts which have been taught till now</u>"
      ]
    },
    {
      "cell_type": "markdown",
      "metadata": {
        "id": "KjPWYK0Rs8By"
      },
      "source": [
        "## <u>Problem 1</u>\n",
        "\n",
        "### As an analyst, you had to present the quarterly performance results of your client. The data which you were provided was on daily basis. To complete this task, you needed to extract the quarter from a given date. For example:\n",
        "\n",
        "* if the date lies between 1st Jan, 2020 - 31st March, 2020, you need to extract the corresponding quarter as '2020-Q1'\n",
        "\n",
        "* if the date lies between 1st April, 2020 - 30th June, 2020, the extracted quarter will be '2020-Q2'\n",
        "\n",
        "* if the date lies between 1st July, 2020 - 30th September, 2020, the extracted quarter will be '2020-Q3' \n",
        "\n",
        "* if the date lies between 1st October, 2020 - 31st Decemeber, 2020 then the extracted quarter will be '2020-Q4'\n"
      ]
    },
    {
      "cell_type": "code",
      "metadata": {
        "id": "RxVZTrenzfHC",
        "colab": {
          "base_uri": "https://localhost:8080/"
        },
        "outputId": "fce8e693-0d80-464f-9baf-de6965c482e6"
      },
      "source": [
        "# Take a proper date input from the user in the format YYYY-MM-DD. Consider this date as a string\n",
        "user_date = input()"
      ],
      "execution_count": 1,
      "outputs": [
        {
          "name": "stdout",
          "output_type": "stream",
          "text": [
            "2022-04-06\n"
          ]
        }
      ]
    },
    {
      "cell_type": "code",
      "metadata": {
        "id": "N1Yhpkiws8B3"
      },
      "source": [
        "# Write your code using if else statements to extract the quarter\n",
        "\n",
        "date_year = int(user_date[:4])\n",
        "date_month = int(user_date[5:7])\n",
        "\n",
        "# Store the quarter value in a string variable named quarter\n",
        "\n",
        "quarter = ''\n",
        "\n",
        "if date_month >=1 and date_month <4:\n",
        "  quarter = str(date_year) + '-Q1'\n",
        "elif date_month >=4 and date_month <7:\n",
        "  quarter = str(date_year) + '-Q2'\n",
        "elif date_month >=7 and date_month <10:\n",
        "  quarter = str(date_year) + '-Q3'\n",
        "else:\n",
        "  quarter = str(date_year) + '-Q4'\n",
        "\n"
      ],
      "execution_count": 2,
      "outputs": []
    },
    {
      "cell_type": "code",
      "metadata": {
        "id": "KpMdlB5Fs8B8",
        "colab": {
          "base_uri": "https://localhost:8080/"
        },
        "outputId": "a9c671c0-3729-4e82-d90f-095bc3f933d7"
      },
      "source": [
        "# Print the extracted quarter\n",
        "print(quarter)"
      ],
      "execution_count": 3,
      "outputs": [
        {
          "output_type": "stream",
          "name": "stdout",
          "text": [
            "2022-Q2\n"
          ]
        }
      ]
    },
    {
      "cell_type": "markdown",
      "metadata": {
        "id": "5qd8g8UUs8CM"
      },
      "source": [
        "## <u>Problem 2 </u>\n",
        "\n",
        "* You went out in your local neighbourhood to collect the data of people residing in the locale. You surveyed 5 people and collected some data and stored that in a dictionary. You recorded their names, their age, their sex, their heights(in cms) and their weights(in kgs)"
      ]
    },
    {
      "cell_type": "code",
      "metadata": {
        "id": "FBJy9Sq_s8CN"
      },
      "source": [
        "# Surveyed data \n",
        "\n",
        "locality_data = {'Name' : ['Abhinav','Sohail','Dheeraj','Rashmi','Vaishali'],\n",
        "                  'Age' : [42,29,35,28,32],\n",
        "                  'Sex' : ['Male', 'Male','Male','Female','Female'] , \n",
        "                  'Height' : [172,175,170,168,170],\n",
        "                  'Weight' : [70,82,60,55,64]\n",
        "                 }"
      ],
      "execution_count": 6,
      "outputs": []
    },
    {
      "cell_type": "markdown",
      "metadata": {
        "id": "2_rBSgqz5Ums"
      },
      "source": [
        "* Find the mean and median heights and weights of the people in your locality"
      ]
    },
    {
      "cell_type": "code",
      "metadata": {
        "id": "zywXa51d6Eev",
        "colab": {
          "base_uri": "https://localhost:8080/"
        },
        "outputId": "0fd08172-9f5d-49bc-838e-8397ab9ec505"
      },
      "source": [
        "# Calculate the mean height and print it\n",
        "\n",
        "\n",
        "mean_height = sum(locality_data['Height'])/len(locality_data['Height'])\n",
        "\n",
        "print(mean_height)\n",
        "\n",
        "\n",
        "# Calculate the median height and print it\n",
        "\n",
        "length_height = len(locality_data['Height'])\n",
        "sorted_height = sorted(locality_data['Height'])\n",
        "\n",
        "median_height = (sorted_height[int(length_height/2)-1])\n",
        "\n",
        "print(median_height)\n",
        "\n",
        "# Calculate the mean weight and print it\n",
        "weights = locality_data['Weight']\n",
        "# Calculate the median weight and print it\n",
        "\n",
        "sorted_weights = sorted(weights)\n",
        "median_weight = sorted_weights[int((len(sorted_weights)+1)/2 )- 1]\n",
        "print(median_weight)\n"
      ],
      "execution_count": 7,
      "outputs": [
        {
          "output_type": "stream",
          "name": "stdout",
          "text": [
            "171.0\n",
            "170\n",
            "64\n"
          ]
        }
      ]
    },
    {
      "cell_type": "markdown",
      "metadata": {
        "id": "yLb5awgPQeYA"
      },
      "source": [
        "* Write a Python code to print the first three elements from the list of age values corresponding to the key 'Age'"
      ]
    },
    {
      "cell_type": "code",
      "metadata": {
        "id": "wef2fVgx6Gji",
        "colab": {
          "base_uri": "https://localhost:8080/"
        },
        "outputId": "a36ebc0d-128a-489a-ac9e-adb06b14487d"
      },
      "source": [
        "# Python code to print the first three elements for the key 'Age'\n",
        "\n",
        "ages = locality_data['Age'][:3]\n",
        "ages\n"
      ],
      "execution_count": 8,
      "outputs": [
        {
          "output_type": "execute_result",
          "data": {
            "text/plain": [
              "[42, 29, 35]"
            ]
          },
          "metadata": {},
          "execution_count": 8
        }
      ]
    },
    {
      "cell_type": "markdown",
      "metadata": {
        "id": "NGrZaqulRIM1"
      },
      "source": [
        "* Write a Python code to print the last two elements of the name list if the list of values corresponding to the key 'Name' contains the element 'Rashmi' else print 'Name not found'"
      ]
    },
    {
      "cell_type": "code",
      "metadata": {
        "id": "TBRZzwAcRTNL",
        "colab": {
          "base_uri": "https://localhost:8080/"
        },
        "outputId": "37f44777-957b-43d0-8739-7423dad23314"
      },
      "source": [
        "# Your code below\n",
        "\n",
        "last_list_name = locality_data['Name'][-2:]\n",
        "\n",
        "if 'Rashmi' in locality_data['Name']:\n",
        "  print(last_list_name)\n",
        "else:\n",
        "  print('Name not found')\n",
        "\n",
        "\n",
        "\n"
      ],
      "execution_count": 9,
      "outputs": [
        {
          "output_type": "stream",
          "name": "stdout",
          "text": [
            "['Rashmi', 'Vaishali']\n"
          ]
        }
      ]
    },
    {
      "cell_type": "markdown",
      "metadata": {
        "id": "ejRCi-vTs8CU"
      },
      "source": [
        "## <u> Problem 3 </u>\n",
        "\n",
        "A student will not be allowed to sit in exam if his/her attendence is less than 75%.\n",
        "\n",
        "Take following input from user\n",
        "* Number of classes held\n",
        "* Number of classes attended."
      ]
    },
    {
      "cell_type": "code",
      "metadata": {
        "id": "C5olNuDGs8CU"
      },
      "source": [
        "# Enter your input\n",
        "\n",
        "print(\"Number of classes held\")\n",
        "classes_held = int(input())\n",
        "\n",
        "print(\"Number of classes attended\")\n",
        "classes_attended = int(input())"
      ],
      "execution_count": null,
      "outputs": []
    },
    {
      "cell_type": "code",
      "metadata": {
        "id": "i553Hqamm2jR"
      },
      "source": [
        "# Calculate the attendance percentage\n",
        "attendance = classes_attended*100/classes_held\n",
        "\n",
        "print(f'The attendance is {attendance}')"
      ],
      "execution_count": null,
      "outputs": []
    },
    {
      "cell_type": "markdown",
      "metadata": {
        "id": "QYDpXSANnKxV"
      },
      "source": [
        "And print the following statements based on the condition above\n",
        "\n",
        "* percentage of class attended\n",
        "* Is student is allowed to sit in exam or not."
      ]
    },
    {
      "cell_type": "code",
      "metadata": {
        "id": "SoQ3P0yym2ts"
      },
      "source": [
        "# Your code here \n",
        "if attendance < 75:\n",
        "  print(\"Your not allowed to sit in exam\")\n",
        "else:\n",
        "  print(\"Your allowed to sit in exam\")"
      ],
      "execution_count": null,
      "outputs": []
    },
    {
      "cell_type": "markdown",
      "metadata": {
        "id": "P1rOYC8Is8Cf"
      },
      "source": [
        "## <u>Problem 4</u>\n",
        "\n",
        "### A school has following rules for grading system:\n",
        "* Below 25 - F\n",
        "* 25 to 45 - E\n",
        "* 45 to 50 - D\n",
        "* 50 to 60 - C\n",
        "* 60 to 80 - B\n",
        "* Above 80 - A\n",
        "\n",
        "Keep the left number inclusive and the right number exclusive, something like [25,45) for grade E where the set is closed at 25 and open at 45.\n",
        "\n",
        "Write a Python code which takes marks as inputs from the user and print the corresponding grade."
      ]
    },
    {
      "cell_type": "code",
      "metadata": {
        "id": "ySeGyCtCs8Cg",
        "colab": {
          "base_uri": "https://localhost:8080/"
        },
        "outputId": "17aafe5a-999b-4fbe-88e3-862f8ee52913"
      },
      "source": [
        "# Your input here \n",
        "print(\"Enter your marks\")\n",
        "marks = int(input())"
      ],
      "execution_count": 15,
      "outputs": [
        {
          "name": "stdout",
          "output_type": "stream",
          "text": [
            "Enter your marks\n",
            "87\n"
          ]
        }
      ]
    },
    {
      "cell_type": "code",
      "metadata": {
        "id": "MI7mOHaqs8Cj",
        "colab": {
          "base_uri": "https://localhost:8080/"
        },
        "outputId": "18b86339-a864-48b5-aea7-1f58c988939d"
      },
      "source": [
        "\n",
        "if marks > 80:\n",
        "  print(\"A\")\n",
        "elif marks >= 60 and marks <80:\n",
        "  print(\"B\")\n",
        "elif marks >= 50 and marks <60:\n",
        "  print(\"C\")\n",
        "elif marks >= 45 and marks <50:\n",
        "  print(\"D\")\n",
        "elif marks >= 25 and marks <45:\n",
        "  print(\"E\")\n",
        "elif marks < 25:\n",
        "  print(\"F\")\n",
        "else:\n",
        "  print(\"Enter the correct value\")\n",
        "\n",
        "\n",
        "\n",
        "\n",
        "\n",
        "\n",
        "\n",
        "\n",
        "\n",
        "\n",
        "\n",
        "\n"
      ],
      "execution_count": 16,
      "outputs": [
        {
          "output_type": "stream",
          "name": "stdout",
          "text": [
            "A\n"
          ]
        }
      ]
    }
  ]
}