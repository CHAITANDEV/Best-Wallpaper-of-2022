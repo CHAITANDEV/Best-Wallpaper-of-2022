{
  "nbformat": 4,
  "nbformat_minor": 0,
  "metadata": {
    "kernelspec": {
      "display_name": "Python 3",
      "language": "python",
      "name": "python3"
    },
    "language_info": {
      "codemirror_mode": {
        "name": "ipython",
        "version": 3
      },
      "file_extension": ".py",
      "mimetype": "text/x-python",
      "name": "python",
      "nbconvert_exporter": "python",
      "pygments_lexer": "ipython3",
      "version": "3.7.4"
    },
    "colab": {
      "name": "Copy of Assignment - Tuples, Sets and Dictionaries.ipynb",
      "provenance": [],
      "collapsed_sections": [],
      "include_colab_link": true
    }
  },
  "cells": [
    {
      "cell_type": "markdown",
      "metadata": {
        "id": "view-in-github",
        "colab_type": "text"
      },
      "source": [
        "<a href=\"https://colab.research.google.com/github/CHAITANDEV/python-/blob/main/Copy_of_Assignment_Tuples%2C_Sets_and_Dictionaries.ipynb\" target=\"_parent\"><img src=\"https://colab.research.google.com/assets/colab-badge.svg\" alt=\"Open In Colab\"/></a>"
      ]
    },
    {
      "cell_type": "markdown",
      "metadata": {
        "id": "8WbUJEVzs8Bx"
      },
      "source": [
        "## <u>While doing this assignment only use those concepts which have been taught till now</u>"
      ]
    },
    {
      "cell_type": "markdown",
      "metadata": {
        "id": "KjPWYK0Rs8By"
      },
      "source": [
        "## <u>Problem 1</u>\n",
        "\n",
        "### Another measure of average\n",
        "\n",
        "* Mode is defined as the value that appears most often in a set of data values. Mode corresponds to the most frequent value.\n",
        "* You are given a list of numbers and you need to calculate the mode of this list"
      ]
    },
    {
      "cell_type": "code",
      "metadata": {
        "id": "34TbaGurs8Bz"
      },
      "source": [
        "# A list containing average daily temperature over 10 days\n",
        "temperatures = [34, 40, 29, 33, 42, 40, 39, 34, 34,33 ]"
      ],
      "execution_count": null,
      "outputs": []
    },
    {
      "cell_type": "code",
      "metadata": {
        "id": "N1Yhpkiws8B3"
      },
      "source": [
        "# Step 1 : Find the unique set of values. Store this in a list\n",
        "unique_temperatures = set(temperatures)\n",
        "ut = list(unique_temperatures)"
      ],
      "execution_count": null,
      "outputs": []
    },
    {
      "cell_type": "code",
      "metadata": {
        "id": "KpMdlB5Fs8B8",
        "outputId": "f9da084c-f8e4-4a9a-d96a-9a5c84511b90",
        "colab": {
          "base_uri": "https://localhost:8080/"
        }
      },
      "source": [
        "# Print the unique temperature list\n",
        "ut"
      ],
      "execution_count": null,
      "outputs": [
        {
          "output_type": "execute_result",
          "data": {
            "text/plain": [
              "[33, 34, 39, 40, 42, 29]"
            ]
          },
          "metadata": {},
          "execution_count": 3
        }
      ]
    },
    {
      "cell_type": "code",
      "metadata": {
        "id": "J7CyJi_Ls8B_"
      },
      "source": [
        "# Step 2 : Create an empty dictionary which will contain the unique temperatures as keys and their counts in the original temperatures list as values\n",
        "temp_dict = {}\n",
        "\n",
        "# Set the values for each key separately\n",
        "# First key\n",
        "\n",
        "temp_dict = {ut[0]:temperatures.count(ut[0])}\n",
        "\n",
        "\n",
        "# Second key\n",
        "\n",
        "temp_dict.update({ut[1]:temperatures.count(ut[1])})\n",
        "\n",
        "# Third key\n",
        "\n",
        "temp_dict.update({ut[2]:temperatures.count(ut[2])})\n",
        "\n",
        "\n",
        "# Fourth key\n",
        "\n",
        "temp_dict.update({ut[3]:temperatures.count(ut[3])})\n",
        "\n",
        "\n",
        "# Fifth key\n",
        "\n",
        "temp_dict.update({ut[4]:temperatures.count(ut[4])})\n",
        "\n",
        "\n",
        "# Sixth key\n",
        "\n",
        "temp_dict.update({ut[5]:temperatures.count(ut[5])})\n"
      ],
      "execution_count": null,
      "outputs": []
    },
    {
      "cell_type": "code",
      "metadata": {
        "id": "4-ZxbmMxtWfQ",
        "outputId": "a66e887a-7e51-487d-d58a-7f71ba1b1801",
        "colab": {
          "base_uri": "https://localhost:8080/"
        }
      },
      "source": [
        "# Step 3: Store the dictionary values in a list\n",
        "temp_dict_frequencies = list(temp_dict.values())\n",
        "\n",
        "\n",
        "# Print the list of dictionary values\n",
        "\n",
        "print(temp_dict_frequencies)\n",
        "\n",
        "# Find the index of the most frequent temperature value\n",
        "\n",
        "max_count = max(temp_dict_frequencies)\n",
        "most_frequent_temp_index = temp_dict_frequencies.index(max_count)\n",
        "\n",
        "\n",
        "# Print the index\n",
        "\n",
        "print(most_frequent_temp_index)\n"
      ],
      "execution_count": null,
      "outputs": [
        {
          "output_type": "stream",
          "name": "stdout",
          "text": [
            "[2, 3, 1, 2, 1, 1]\n",
            "1\n"
          ]
        }
      ]
    },
    {
      "cell_type": "code",
      "metadata": {
        "id": "riu9mZhcwBY6",
        "outputId": "39a923d8-572e-4e39-e306-e9c131414341",
        "colab": {
          "base_uri": "https://localhost:8080/"
        }
      },
      "source": [
        "# Step 4 : Create the list of dictionary keys\n",
        "temp_dict_keys = list(temp_dict.keys())\n",
        "\n",
        "# Print the list of dictionary keys\n",
        "print(temp_dict_keys)\n",
        "\n",
        "# Calculate the mode temperature\n",
        "mode_temp = temp_dict_keys[most_frequent_temp_index]\n",
        "print(mode_temp)"
      ],
      "execution_count": null,
      "outputs": [
        {
          "output_type": "stream",
          "name": "stdout",
          "text": [
            "[33, 34, 39, 40, 42, 29]\n",
            "34\n"
          ]
        }
      ]
    },
    {
      "cell_type": "markdown",
      "metadata": {
        "id": "5qd8g8UUs8CM"
      },
      "source": [
        "## <u>Problem 2 </u>\n",
        "\n",
        "### Challenging the immutability of tuples\n",
        "\n",
        "You are given a list of tuples. You need to replace the last element of the last tuple"
      ]
    },
    {
      "cell_type": "code",
      "metadata": {
        "id": "FBJy9Sq_s8CN"
      },
      "source": [
        "# Input list of tuples\n",
        "\n",
        "list_of_tuples = [(10,20,30),(30,40,50),(50,60,70)]\n",
        "\n",
        "\n",
        "# Expected output : Replace the last element 70 with 100\n",
        "# output_list = [(10,20,30),(30,40,50),(50,60,100)]"
      ],
      "execution_count": null,
      "outputs": []
    },
    {
      "cell_type": "code",
      "metadata": {
        "id": "UNtYax1as8CR",
        "outputId": "97705dfc-64d7-49ee-f3b0-55efa178878c",
        "colab": {
          "base_uri": "https://localhost:8080/"
        }
      },
      "source": [
        "# Your code here \n",
        "\n",
        "lt = list_of_tuples[:-1] + [list_of_tuples[2][:-1]+(100,)]\n",
        "\n",
        "# Print the output list\n",
        "\n",
        "lt\n"
      ],
      "execution_count": null,
      "outputs": [
        {
          "output_type": "execute_result",
          "data": {
            "text/plain": [
              "[(10, 20, 30), (30, 40, 50), (50, 60, 100)]"
            ]
          },
          "metadata": {},
          "execution_count": 12
        }
      ]
    },
    {
      "cell_type": "markdown",
      "metadata": {
        "id": "ejRCi-vTs8CU"
      },
      "source": [
        "## <u> Problem 3 </u>\n",
        "\n",
        "Natural Language Processing or NLP is one of the most promising fields in Machine Learning. Most of the times in NLP we deal with the textual data (a bunch of strings). Sometimes when we are processing the text, it is a common practice to get rid of some set of stop words from our original text. By default stop words are very common words used in English language such as and, or, punctuations etc.\n",
        "\n",
        "In this exercise, you are provided with a default set of stop words and you need to add some extra set of custom words."
      ]
    },
    {
      "cell_type": "code",
      "metadata": {
        "id": "C5olNuDGs8CU",
        "outputId": "e7a4f5ed-5e6c-42b2-e27a-f6d27dd1c82a",
        "colab": {
          "base_uri": "https://localhost:8080/"
        }
      },
      "source": [
        "# A sample sentence \n",
        "\n",
        "sentence = 'Hello, good morning folks! Today we will announce the half yearly performance results of the company. Due to the ongoing COVID-19 pandemic, our profits have declined by 60% as compared to the last half yearly results'\n",
        "\n",
        "# Print your sentence\n",
        "\n",
        "print\n"
      ],
      "execution_count": null,
      "outputs": [
        {
          "output_type": "execute_result",
          "data": {
            "text/plain": [
              "<function print>"
            ]
          },
          "metadata": {},
          "execution_count": 13
        }
      ]
    },
    {
      "cell_type": "code",
      "metadata": {
        "id": "B4afm8gCs8CY"
      },
      "source": [
        "# Default set of stop words \n",
        "stop_words = {\"i\", \"me\", \"my\", \"myself\", \"we\", \"our\", \"ours\", \"ourselves\", \"you\", \"your\", \"yours\", \"yourself\", \n",
        "              \"yourselves\", \"he\", \"him\", \"his\", \"himself\", \"she\", \"her\", \"hers\", \"herself\", \"it\", \"its\", \"itself\",\n",
        "              \"they\", \"them\", \"their\", \"theirs\", \"themselves\", \"what\", \"which\", \"who\", \"whom\", \"this\", \"that\",\n",
        "              \"these\", \"those\", \"am\", \"is\", \"are\", \"was\", \"were\", \"be\", \"been\", \"being\", \"have\", \"has\", \"had\",\n",
        "              \"having\", \"do\", \"does\", \"did\", \"doing\", \"a\", \"an\", \"the\", \"and\", \"but\", \"if\", \"or\", \"because\",\n",
        "              \"as\", \"until\", \"while\", \"of\", \"at\", \"by\", \"for\", \"with\", \"about\", \"against\", \"between\", \"into\",\n",
        "              \"through\", \"during\", \"before\", \"after\", \"above\", \"below\", \"to\", \"from\", \"up\", \"down\", \"in\", \"out\", \n",
        "              \"on\", \"off\", \"over\", \"under\", \"again\", \"further\", \"then\", \"once\", \"here\", \"there\", \"when\", \"where\",\n",
        "              \"why\", \"how\", \"all\", \"any\", \"both\", \"each\", \"few\", \"more\", \"most\", \"other\", \"some\", \"such\", \"no\",\n",
        "              \"nor\", \"not\", \"only\", \"own\", \"same\", \"so\", \"than\", \"too\", \"very\", \"s\", \"t\", \"can\", \"will\", \"just\",\n",
        "              \"don\", \"should\", \"now\"}\n"
      ],
      "execution_count": null,
      "outputs": []
    },
    {
      "cell_type": "code",
      "metadata": {
        "id": "evgHHnRks8Cc",
        "outputId": "121047ef-d0c2-405c-e008-e0937eb1db34",
        "colab": {
          "base_uri": "https://localhost:8080/"
        }
      },
      "source": [
        "# Update the set of stop words by adding the custom stop words\n",
        "custom_stop_words = [\"hello\",\"good\",\"morning\",\"half\",\"yearly\"]\n",
        "\n",
        "# Your code here\n",
        "\n",
        "stop_words.update(custom_stop_words)\n",
        "\n",
        "# Print the updated stop words\n",
        "\n",
        "print(stop_words)\n"
      ],
      "execution_count": null,
      "outputs": [
        {
          "output_type": "stream",
          "name": "stdout",
          "text": [
            "{'below', 'i', 'why', 'these', 'all', 'his', 'only', 't', 'now', 'myself', 'until', 'in', 'what', 'the', 'be', 'its', 'by', 'my', 'any', 'being', 'of', 'nor', 'such', 'too', 'out', 'they', 'me', 'as', 'once', 'if', 'he', 'so', 'them', 'both', 'before', 'morning', 'most', 'don', 'again', 'we', 'some', 'which', 'no', 'ourselves', 's', 'or', 'each', 'down', 'at', 'those', 'up', 'few', 'this', 'how', 'was', 'did', 'our', 'against', 'an', 'with', 'there', 'should', 'having', 'and', 'themselves', 'other', 'from', 'own', 'does', 'between', 'a', 'yourself', 'for', 'during', 'when', 'can', 'is', 'your', 'not', 'itself', 'because', 'will', 'have', 'it', 'whom', 'had', 'more', 'her', 'are', 'off', 'she', 'himself', 'further', 'do', 'doing', 'where', 'yearly', 'on', 'about', 'over', 'to', 'very', 'theirs', 'ours', 'has', 'here', 'herself', 'you', 'through', 'that', 'were', 'him', 'just', 'under', 'into', 'yours', 'half', 'while', 'good', 'after', 'same', 'yourselves', 'hello', 'but', 'above', 'am', 'hers', 'their', 'then', 'who', 'than', 'been'}\n"
          ]
        }
      ]
    },
    {
      "cell_type": "code",
      "metadata": {
        "id": "1QbZrotrtIE3",
        "outputId": "e972cbdd-e768-4002-fa17-d30e821e4479",
        "colab": {
          "base_uri": "https://localhost:8080/"
        }
      },
      "source": [
        "# Do the same task another way. Keep in mind to use the original set of stop_words for this piece of code\n",
        "\n",
        "up = list(stop_words) + custom_stop_words\n",
        "\n",
        "# Print the updated stop words\n",
        "\n",
        "print(set(up))\n"
      ],
      "execution_count": null,
      "outputs": [
        {
          "output_type": "stream",
          "name": "stdout",
          "text": [
            "{'below', 'i', 'why', 'these', 'all', 'his', 'only', 't', 'now', 'who', 'myself', 'until', 'in', 'what', 'the', 'be', 'its', 'by', 'my', 'any', 'being', 'of', 'nor', 'such', 'too', 'out', 'they', 'me', 'as', 'once', 'if', 'he', 'so', 'them', 'both', 'before', 'morning', 'most', 'don', 'again', 'we', 'some', 'which', 'no', 'ourselves', 's', 'or', 'each', 'down', 'at', 'those', 'up', 'few', 'this', 'how', 'was', 'did', 'our', 'against', 'an', 'with', 'there', 'should', 'having', 'themselves', 'other', 'and', 'from', 'own', 'does', 'between', 'a', 'yourself', 'for', 'during', 'when', 'can', 'is', 'your', 'not', 'itself', 'because', 'have', 'it', 'whom', 'had', 'more', 'her', 'are', 'off', 'she', 'himself', 'further', 'do', 'doing', 'where', 'yearly', 'on', 'about', 'over', 'to', 'very', 'theirs', 'ours', 'has', 'here', 'herself', 'you', 'through', 'that', 'were', 'him', 'just', 'under', 'into', 'yours', 'half', 'while', 'good', 'after', 'same', 'yourselves', 'hello', 'but', 'above', 'am', 'hers', 'their', 'then', 'will', 'than', 'been'}\n"
          ]
        }
      ]
    },
    {
      "cell_type": "markdown",
      "metadata": {
        "id": "P1rOYC8Is8Cf"
      },
      "source": [
        "## <u>Problem 4</u>\n",
        "\n",
        " Write a Python script to check whether a given key already exists in a dictionary. If it does, drop that key from the dictionary. If it does not, add that key and corresponding value to the dictionary"
      ]
    },
    {
      "cell_type": "code",
      "metadata": {
        "id": "ySeGyCtCs8Cg"
      },
      "source": [
        "# Your dictionary\n",
        "employee_dict = {'Name':'Chaitan Dev','Skills':['Python','Machine Learning','Deep Learning'],'Band':6.0,\n",
        "                 'Promotion Year':[2021,20122]}"
      ],
      "execution_count": null,
      "outputs": []
    },
    {
      "cell_type": "code",
      "metadata": {
        "id": "MI7mOHaqs8Cj"
      },
      "source": [
        "# Check if the key 'Employee_ID' is present in the dictionary. Hint : use a boolean variable to store this value\n",
        "\n",
        "'Employee_ID' in employee_dict\n",
        "\n",
        "# If not present add this key to this dictionary and the corresponding value to be 4503233\n",
        "\n",
        "employee_dict.update({'Employee_ID':4503233})\n"
      ],
      "execution_count": null,
      "outputs": []
    },
    {
      "cell_type": "code",
      "source": [
        "employee_dict\n"
      ],
      "metadata": {
        "id": "ogoZ9ZLdoG-S",
        "outputId": "72a08184-56dc-4698-d95f-3cc9155b9dc7",
        "colab": {
          "base_uri": "https://localhost:8080/"
        }
      },
      "execution_count": null,
      "outputs": [
        {
          "output_type": "execute_result",
          "data": {
            "text/plain": [
              "{'Band': 6.0,\n",
              " 'Employee_ID': 4503233,\n",
              " 'Name': 'Chaitan Dev',\n",
              " 'Promotion Year': [2021, 20122],\n",
              " 'Skills': ['Python', 'Machine Learning', 'Deep Learning']}"
            ]
          },
          "metadata": {},
          "execution_count": 28
        }
      ]
    },
    {
      "cell_type": "code",
      "metadata": {
        "id": "ARPbZfY8s8Co",
        "outputId": "c6f25028-04b1-41f9-db30-7820ce3920fa",
        "colab": {
          "base_uri": "https://localhost:8080/"
        }
      },
      "source": [
        "# Check if the key 'Band' is present in the dictionary.\n",
        "\n",
        "'Band' in employee_dict\n",
        "\n",
        "\n",
        "# If present, drop this key from the dictionary\n",
        "\n",
        "employee_dict.pop('Band')\n"
      ],
      "execution_count": null,
      "outputs": [
        {
          "output_type": "execute_result",
          "data": {
            "text/plain": [
              "6.0"
            ]
          },
          "metadata": {},
          "execution_count": 29
        }
      ]
    },
    {
      "cell_type": "code",
      "metadata": {
        "id": "lUDbbyXmulzh",
        "outputId": "d805237f-e027-4d9c-f71c-d80c8bf72095",
        "colab": {
          "base_uri": "https://localhost:8080/"
        }
      },
      "source": [
        "# Print the updated dictionary\n",
        "\n",
        "employee_dict\n"
      ],
      "execution_count": null,
      "outputs": [
        {
          "output_type": "execute_result",
          "data": {
            "text/plain": [
              "{'Employee_ID': 4503233,\n",
              " 'Name': 'Chaitan Dev',\n",
              " 'Promotion Year': [2021, 20122],\n",
              " 'Skills': ['Python', 'Machine Learning', 'Deep Learning']}"
            ]
          },
          "metadata": {},
          "execution_count": 30
        }
      ]
    }
  ]
}